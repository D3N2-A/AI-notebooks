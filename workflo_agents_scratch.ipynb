{
 "cells": [
  {
   "cell_type": "code",
   "execution_count": 1,
   "metadata": {},
   "outputs": [
    {
     "name": "stdout",
     "output_type": "stream",
     "text": [
      "Requirement already satisfied: langchain_core in /Library/Frameworks/Python.framework/Versions/3.12/lib/python3.12/site-packages (0.3.59)\n",
      "Requirement already satisfied: langchain-anthropic in /Library/Frameworks/Python.framework/Versions/3.12/lib/python3.12/site-packages (0.3.13)\n",
      "Requirement already satisfied: langgraph in /Library/Frameworks/Python.framework/Versions/3.12/lib/python3.12/site-packages (0.4.3)\n",
      "Requirement already satisfied: langsmith<0.4,>=0.1.125 in /Library/Frameworks/Python.framework/Versions/3.12/lib/python3.12/site-packages (from langchain_core) (0.3.42)\n",
      "Requirement already satisfied: tenacity!=8.4.0,<10.0.0,>=8.1.0 in /Library/Frameworks/Python.framework/Versions/3.12/lib/python3.12/site-packages (from langchain_core) (9.1.2)\n",
      "Requirement already satisfied: jsonpatch<2.0,>=1.33 in /Library/Frameworks/Python.framework/Versions/3.12/lib/python3.12/site-packages (from langchain_core) (1.33)\n",
      "Requirement already satisfied: PyYAML>=5.3 in /Library/Frameworks/Python.framework/Versions/3.12/lib/python3.12/site-packages (from langchain_core) (6.0.2)\n",
      "Requirement already satisfied: packaging<25,>=23.2 in /Library/Frameworks/Python.framework/Versions/3.12/lib/python3.12/site-packages (from langchain_core) (24.0)\n",
      "Requirement already satisfied: typing-extensions>=4.7 in /Library/Frameworks/Python.framework/Versions/3.12/lib/python3.12/site-packages (from langchain_core) (4.13.2)\n",
      "Requirement already satisfied: pydantic<3.0.0,>=2.5.2 in /Library/Frameworks/Python.framework/Versions/3.12/lib/python3.12/site-packages (from langchain_core) (2.11.4)\n",
      "Requirement already satisfied: jsonpointer>=1.9 in /Library/Frameworks/Python.framework/Versions/3.12/lib/python3.12/site-packages (from jsonpatch<2.0,>=1.33->langchain_core) (3.0.0)\n",
      "Requirement already satisfied: httpx<1,>=0.23.0 in /Library/Frameworks/Python.framework/Versions/3.12/lib/python3.12/site-packages (from langsmith<0.4,>=0.1.125->langchain_core) (0.28.1)\n",
      "Requirement already satisfied: orjson<4.0.0,>=3.9.14 in /Library/Frameworks/Python.framework/Versions/3.12/lib/python3.12/site-packages (from langsmith<0.4,>=0.1.125->langchain_core) (3.10.18)\n",
      "Requirement already satisfied: requests<3,>=2 in /Library/Frameworks/Python.framework/Versions/3.12/lib/python3.12/site-packages (from langsmith<0.4,>=0.1.125->langchain_core) (2.32.3)\n",
      "Requirement already satisfied: requests-toolbelt<2.0.0,>=1.0.0 in /Library/Frameworks/Python.framework/Versions/3.12/lib/python3.12/site-packages (from langsmith<0.4,>=0.1.125->langchain_core) (1.0.0)\n",
      "Requirement already satisfied: zstandard<0.24.0,>=0.23.0 in /Library/Frameworks/Python.framework/Versions/3.12/lib/python3.12/site-packages (from langsmith<0.4,>=0.1.125->langchain_core) (0.23.0)\n",
      "Requirement already satisfied: anyio in /Library/Frameworks/Python.framework/Versions/3.12/lib/python3.12/site-packages (from httpx<1,>=0.23.0->langsmith<0.4,>=0.1.125->langchain_core) (3.6.2)\n",
      "Requirement already satisfied: certifi in /Library/Frameworks/Python.framework/Versions/3.12/lib/python3.12/site-packages (from httpx<1,>=0.23.0->langsmith<0.4,>=0.1.125->langchain_core) (2022.12.7)\n",
      "Requirement already satisfied: httpcore==1.* in /Library/Frameworks/Python.framework/Versions/3.12/lib/python3.12/site-packages (from httpx<1,>=0.23.0->langsmith<0.4,>=0.1.125->langchain_core) (1.0.9)\n",
      "Requirement already satisfied: idna in /Library/Frameworks/Python.framework/Versions/3.12/lib/python3.12/site-packages (from httpx<1,>=0.23.0->langsmith<0.4,>=0.1.125->langchain_core) (3.4)\n",
      "Requirement already satisfied: h11>=0.16 in /Library/Frameworks/Python.framework/Versions/3.12/lib/python3.12/site-packages (from httpcore==1.*->httpx<1,>=0.23.0->langsmith<0.4,>=0.1.125->langchain_core) (0.16.0)\n",
      "Requirement already satisfied: annotated-types>=0.6.0 in /Library/Frameworks/Python.framework/Versions/3.12/lib/python3.12/site-packages (from pydantic<3.0.0,>=2.5.2->langchain_core) (0.7.0)\n",
      "Requirement already satisfied: pydantic-core==2.33.2 in /Library/Frameworks/Python.framework/Versions/3.12/lib/python3.12/site-packages (from pydantic<3.0.0,>=2.5.2->langchain_core) (2.33.2)\n",
      "Requirement already satisfied: typing-inspection>=0.4.0 in /Library/Frameworks/Python.framework/Versions/3.12/lib/python3.12/site-packages (from pydantic<3.0.0,>=2.5.2->langchain_core) (0.4.0)\n",
      "Requirement already satisfied: charset-normalizer<4,>=2 in /Library/Frameworks/Python.framework/Versions/3.12/lib/python3.12/site-packages (from requests<3,>=2->langsmith<0.4,>=0.1.125->langchain_core) (3.0.1)\n",
      "Requirement already satisfied: urllib3<3,>=1.21.1 in /Library/Frameworks/Python.framework/Versions/3.12/lib/python3.12/site-packages (from requests<3,>=2->langsmith<0.4,>=0.1.125->langchain_core) (1.26.14)\n",
      "Requirement already satisfied: anthropic<1,>=0.51.0 in /Library/Frameworks/Python.framework/Versions/3.12/lib/python3.12/site-packages (from langchain-anthropic) (0.51.0)\n",
      "Requirement already satisfied: distro<2,>=1.7.0 in /Library/Frameworks/Python.framework/Versions/3.12/lib/python3.12/site-packages (from anthropic<1,>=0.51.0->langchain-anthropic) (1.9.0)\n",
      "Requirement already satisfied: jiter<1,>=0.4.0 in /Library/Frameworks/Python.framework/Versions/3.12/lib/python3.12/site-packages (from anthropic<1,>=0.51.0->langchain-anthropic) (0.9.0)\n",
      "Requirement already satisfied: sniffio in /Library/Frameworks/Python.framework/Versions/3.12/lib/python3.12/site-packages (from anthropic<1,>=0.51.0->langchain-anthropic) (1.3.0)\n",
      "Requirement already satisfied: langgraph-checkpoint<3.0.0,>=2.0.10 in /Library/Frameworks/Python.framework/Versions/3.12/lib/python3.12/site-packages (from langgraph) (2.0.25)\n",
      "Requirement already satisfied: langgraph-prebuilt>=0.1.8 in /Library/Frameworks/Python.framework/Versions/3.12/lib/python3.12/site-packages (from langgraph) (0.1.8)\n",
      "Requirement already satisfied: langgraph-sdk>=0.1.42 in /Library/Frameworks/Python.framework/Versions/3.12/lib/python3.12/site-packages (from langgraph) (0.1.66)\n",
      "Requirement already satisfied: xxhash<4.0.0,>=3.5.0 in /Library/Frameworks/Python.framework/Versions/3.12/lib/python3.12/site-packages (from langgraph) (3.5.0)\n",
      "Requirement already satisfied: ormsgpack<2.0.0,>=1.8.0 in /Library/Frameworks/Python.framework/Versions/3.12/lib/python3.12/site-packages (from langgraph-checkpoint<3.0.0,>=2.0.10->langgraph) (1.9.1)\n"
     ]
    }
   ],
   "source": [
    "! pip install langchain_core langchain-anthropic langgraph"
   ]
  },
  {
   "cell_type": "code",
   "execution_count": 2,
   "metadata": {
    "vscode": {
     "languageId": "plaintext"
    }
   },
   "outputs": [],
   "source": [
    "from langchain_anthropic import ChatAnthropic\n",
    "llm = ChatAnthropic(model=\"claude-3-5-sonnet-latest\")"
   ]
  },
  {
   "cell_type": "code",
   "execution_count": 3,
   "metadata": {},
   "outputs": [
    {
     "name": "stdin",
     "output_type": "stream",
     "text": [
      "ANTHROPIC_API_KEY:  ········\n"
     ]
    }
   ],
   "source": [
    "import os, getpass\n",
    "\n",
    "def _set_env(var:str):\n",
    "    if not os.environ.get(var):\n",
    "        os.environ[var] = getpass.getpass(f\"{var}: \")\n",
    "\n",
    "_set_env(\"ANTHROPIC_API_KEY\")"
   ]
  },
  {
   "cell_type": "code",
   "execution_count": 4,
   "metadata": {},
   "outputs": [],
   "source": [
    "from langchain_anthropic import ChatAnthropic\n",
    "llm = ChatAnthropic(model=\"claude-3-5-sonnet-latest\")"
   ]
  },
  {
   "cell_type": "code",
   "execution_count": 5,
   "metadata": {},
   "outputs": [
    {
     "name": "stdout",
     "output_type": "stream",
     "text": [
      "search_query='how does JavaScript garbage collection work memory management role explanation' justification=\"This query will help find detailed information about JavaScript's garbage collection mechanism, its role in memory management, and how it automatically handles memory allocation and deallocation.\"\n"
     ]
    }
   ],
   "source": [
    "from pydantic import BaseModel, Field\n",
    "\n",
    "class SearchQuery(BaseModel):\n",
    "    search_query: str = Field(None, description=\"Query that is optimized web search.\")\n",
    "    justification: str = Field(None, justification=\"Why this query is relevant to the user's request.\")\n",
    "\n",
    "structured_llm = llm.with_structured_output(SearchQuery)\n",
    "\n",
    "output = structured_llm.invoke(\"What is role of garbage collection in JS\")\n",
    "print(output)"
   ]
  },
  {
   "cell_type": "code",
   "execution_count": 6,
   "metadata": {},
   "outputs": [
    {
     "name": "stdout",
     "output_type": "stream",
     "text": [
      "content='7.546650655771368' name='multiply' tool_call_id='toolu_01FfHdZp3BfDCqWnhdBruYin'\n"
     ]
    }
   ],
   "source": [
    "from langchain_core.tools import tool\n",
    "\n",
    "@tool\n",
    "def multiply(a: float, b: float) -> int:\n",
    "    \"\"\"Multiplies a and b.\"\"\"\n",
    "    return a * b\n",
    "\n",
    "tools_map = {\"multiply\":multiply}\n",
    "llm_with_tools = llm.bind_tools([multiply])\n",
    "msg = llm_with_tools.invoke(\"What is 2.4321058091 times 3.1029285928?\")\n",
    "\n",
    "for tool_call in msg.tool_calls:\n",
    "    selected_tool = tools_map[tool_call[\"name\"].lower()]\n",
    "    tool_message = selected_tool.invoke(tool_call)\n",
    "    print(tool_message)"
   ]
  },
  {
   "cell_type": "code",
   "execution_count": 7,
   "metadata": {},
   "outputs": [],
   "source": [
    "from typing_extensions import TypedDict\n",
    "\n",
    "class State(TypedDict):\n",
    "    topic: str\n",
    "    joke: str\n",
    "    improved_joke: str\n",
    "    final_joke: str"
   ]
  },
  {
   "cell_type": "code",
   "execution_count": 8,
   "metadata": {},
   "outputs": [],
   "source": [
    "def generate_joke(state: State):\n",
    "    msg = llm.invoke(f\"Write a short joke about {state['topic']}\")\n",
    "    return {\"joke\":msg.content}\n",
    "\n",
    "def improve_joke(state: State):\n",
    "    msg = llm.invoke(f\"Make this joke funnier by adding wordplay: {state['joke']}\")\n",
    "    return {\"improved_joke\":msg.content}\n",
    "\n",
    "def polish_joke(state: State):\n",
    "    msg = llm.invoke(f\"Add a surprising twist to this joke: {state['improved_joke']}\")\n",
    "    return {\"final_joke\":msg.content}\n",
    "\n",
    "def check_punchline(state: State):\n",
    "   if \"?\" in state[\"joke\"] or \"!\" in state[\"joke\"]:\n",
    "       return \"Pass\"\n",
    "   return \"Fail\""
   ]
  },
  {
   "cell_type": "code",
   "execution_count": 9,
   "metadata": {},
   "outputs": [
    {
     "data": {
      "image/png": "[encoded data removed]",
      "text/plain": [
       "<IPython.core.display.Image object>"
      ]
     },
     "metadata": {},
     "output_type": "display_data"
    }
   ],
   "source": [
    "from langgraph.graph import StateGraph, START, END\n",
    "from IPython.display import Image, display\n",
    "\n",
    "workflow = StateGraph(State)\n",
    "\n",
    "workflow.add_node(\"generate_joke\", generate_joke)\n",
    "workflow.add_node(\"improve_joke\", improve_joke)\n",
    "workflow.add_node(\"polish_joke\", polish_joke)\n",
    "\n",
    "workflow.add_edge(START, \"generate_joke\")\n",
    "workflow.add_conditional_edges(\"generate_joke\", check_punchline, {\"Pass\": \"improve_joke\", \"Fail\": END}\n",
    "                              )\n",
    "workflow.add_edge(\"improve_joke\", \"polish_joke\")\n",
    "workflow.add_edge(\"polish_joke\", END)\n",
    "\n",
    "chain  = workflow.compile()\n",
    "\n",
    "display(Image(chain.get_graph().draw_mermaid_png()))\n"
   ]
  },
  {
   "cell_type": "code",
   "execution_count": 10,
   "metadata": {},
   "outputs": [
    {
     "data": {
      "text/plain": [
       "{'topic': 'car',\n",
       " 'joke': \"Here's a short car joke:\\n\\nWhy don't cars like telling jokes?\\nBecause they're afraid of cracking up!\",\n",
       " 'improved_joke': 'Here\\'s the car joke with added wordplay:\\n\\nWhy don\\'t cars like telling jokes?\\nBecause they\\'re afraid of cracking up and ending up in the PUNCH-line! Besides, their humor might be too AUTO-matic, and they don\\'t want to TIRE everyone out!\\n\\nThis version adds multiple layers of wordplay:\\n- PUNCH-line (car crash/joke punchline)\\n- AUTO-matic (automobile/automatic)\\n- TIRE (car tire/become exhausted)\\n\\nPlus it still keeps the original \"cracking up\" double meaning (laughing/car crash)!',\n",
       " 'final_joke': 'Here\\'s a surprising twist added to your car joke:\\n\\nWhy don\\'t cars like telling jokes?\\nBecause they\\'re afraid of cracking up and ending up in the PUNCH-line! Besides, their humor might be too AUTO-matic, and they don\\'t want to TIRE everyone out!\\n\\n...except for the DeLorean - it\\'s always trying to get laughs in the FUTURE!\\n\\nThis twist adds an unexpected reference to the DeLorean time machine from \"Back to the Future,\" playing with:\\n- The car\\'s iconic status as a time machine\\n- Creating irony since it\\'s the one car that would tell jokes\\n- Adding another layer of wordplay with \"FUTURE\"\\n- Subverting the original premise in a playful way\\n\\nThe surprise ending gives the joke an extra \"gear\" while staying within the car theme!'}"
      ]
     },
     "execution_count": 10,
     "metadata": {},
     "output_type": "execute_result"
    }
   ],
   "source": [
    "chain.invoke({\"topic\":\"car\"})"
   ]
  },
  {
   "cell_type": "code",
   "execution_count": 49,
   "metadata": {},
   "outputs": [],
   "source": [
    "class State(TypedDict):\n",
    "    topic: str\n",
    "    poem: str\n",
    "    joke: str\n",
    "    puzzle: str"
   ]
  },
  {
   "cell_type": "code",
   "execution_count": 50,
   "metadata": {},
   "outputs": [],
   "source": [
    "def joke_generator(state: State):\n",
    "    msg = llm.invoke(f\"Write a short joke about: {state[\"topic\"]}\")\n",
    "    return {\"joke\": msg.content}\n",
    "    \n",
    "def poem_generator(state: State):\n",
    "    msg = llm.invoke(f\"Write a short poem about: {state[\"topic\"]}\")\n",
    "    return {\"poem\": msg.content}\n",
    "    \n",
    "def puzzle_generator(state: State):\n",
    "    msg = llm.invoke(f\"Write a quirky short puzzle about: {state[\"topic\"]}\")\n",
    "    return {\"puzzle\": msg.content}\n",
    "\n",
    "def aggregator(state: State):\n",
    "    combined = f\"Here's a joke, poem and puzzle about {state[\"topic\"]} \\n\\n\"\n",
    "    combined += f\"Joke: {state[\"joke\"]} \\n\\n\"\n",
    "    combined += f\"Poem: {state[\"poem\"]} \\n\\n\"\n",
    "    combined += f\"Puzzle: {state[\"puzzle\"]} \\n\\n\"\n",
    "    return {\"combined_output\":combined}"
   ]
  },
  {
   "cell_type": "code",
   "execution_count": 51,
   "metadata": {},
   "outputs": [],
   "source": [
    "! pip install --quiet pyppeteer\n",
    "! pip install --quiet nest_asyncio"
   ]
  },
  {
   "cell_type": "code",
   "execution_count": 52,
   "metadata": {},
   "outputs": [
    {
     "data": {
      "image/png": "[encoded data removed]",
      "text/plain": [
       "<IPython.core.display.Image object>"
      ]
     },
     "metadata": {},
     "output_type": "display_data"
    },
    {
     "data": {
      "text/plain": [
       "{'topic': 'car',\n",
       " 'poem': \"Here's a short poem about a car:\\n\\nSteel and chrome, a faithful friend,\\nFour wheels turning, miles to spend.\\nEngine purring, steering true,\\nTaking me from old to new.\\n\\nThrough rain and shine, day and night,\\nDown winding roads, pure delight.\\nMy trusty car, faithful guide,\\nAdventure waiting, let's take a ride.\",\n",
       " 'joke': \"Here's a short car joke:\\n\\nWhat kind of car does a sneezing driver have?\\n\\nA-choo-di! (Audi)\",\n",
       " 'puzzle': \"Here's a quirky car puzzle:\\n\\nI purr but have no fur,\\nI have a trunk but cannot climb,\\nI have keys but no locks to mind,\\nI drink but never eat,\\nI have a hood but no head underneath.\\nWhat am I?\\n\\nAnswer: A car! 🚗\\n\\nThe puzzle plays with common car features that share names with other objects:\\n- Engine purr (like a cat)\\n- Car trunk (unlike a tree/elephant trunk)\\n- Car keys (not door keys)\\n- Drinks fuel (not water/beverages)\\n- Car hood (not a clothing hood)\"}"
      ]
     },
     "execution_count": 52,
     "metadata": {},
     "output_type": "execute_result"
    }
   ],
   "source": [
    "import nest_asyncio\n",
    "from langchain_core.runnables.graph import CurveStyle, MermaidDrawMethod, NodeStyles\n",
    "nest_asyncio.apply()\n",
    "\n",
    "parallel_builder = StateGraph(State)\n",
    "\n",
    "parallel_builder.add_node(\"joke_llm_call\", joke_generator)\n",
    "parallel_builder.add_node(\"poem_llm_call\", poem_generator)\n",
    "parallel_builder.add_node(\"puzzle_llm_call\", puzzle_generator)\n",
    "parallel_builder.add_node(\"aggregator\", aggregator)\n",
    "\n",
    "parallel_builder.add_edge(START, \"joke_llm_call\")\n",
    "parallel_builder.add_edge(START, \"poem_llm_call\")\n",
    "parallel_builder.add_edge(START, \"puzzle_llm_call\")\n",
    "\n",
    "parallel_builder.add_edge(\"joke_llm_call\", \"aggregator\")\n",
    "parallel_builder.add_edge(\"poem_llm_call\", \"aggregator\")\n",
    "parallel_builder.add_edge(\"puzzle_llm_call\", \"aggregator\")\n",
    "\n",
    "parallel_builder.add_edge(\"aggregator\", END)\n",
    "\n",
    "parallel_workflow = parallel_builder.compile()\n",
    "\n",
    "display(Image(parallel_workflow.get_graph().draw_mermaid_png())) \n",
    "\n",
    "parallel_workflow.invoke({\"topic\":\"car\"})\n"
   ]
  },
  {
   "cell_type": "code",
   "execution_count": 53,
   "metadata": {},
   "outputs": [],
   "source": [
    "from typing_extensions import Literal\n",
    "class State(TypedDict):\n",
    "    decision: str\n",
    "    input: str\n",
    "    output: str\n",
    "    \n",
    "class Route(BaseModel):\n",
    "    step: Literal[\"poem\", \"story\", \"puzzle\"] = Field(None, description=\"The next step in the routing process\")\n",
    "\n",
    "router = llm.with_structured_output(Route)"
   ]
  },
  {
   "cell_type": "code",
   "execution_count": 54,
   "metadata": {},
   "outputs": [],
   "source": [
    "from langchain_core.messages import HumanMessage, SystemMessage\n",
    "def llm_call_1(state: State):\n",
    "    print(\"Writing a story\")\n",
    "    result = llm.invoke(state[\"input\"])\n",
    "    return {\"output\": result.content}\n",
    "\n",
    "def llm_call_2(state: State):\n",
    "    print(\"Writing a poem\")\n",
    "    result = llm.invoke(state[\"input\"])\n",
    "    return {\"output\": result.content}\n",
    "\n",
    "def llm_call_3(state: State):\n",
    "    print(\"Writing a puzzle\")\n",
    "    result = llm.invoke(state[\"input\"])\n",
    "    return {\"output\": result.content}\n",
    "\n",
    "def llm_call_router(state: State):\n",
    "\n",
    "    decision  = router.invoke([\n",
    "        SystemMessage(content=\"Route the input to story, poem or puzzle based on user's request\"),\n",
    "        HumanMessage(content=state[\"input\"])\n",
    "    ])\n",
    "    print(decision)\n",
    "    return {\"decision\":decision.step}\n",
    "\n",
    "def route_decision(state: State):\n",
    "    match state[\"decision\"]:\n",
    "        case \"story\":\n",
    "            return \"llm_call_1\"\n",
    "        case \"poem\":\n",
    "            return \"llm_call_2\"\n",
    "        case \"puzzle\":\n",
    "            return \"llm_call_3\"\n",
    "   "
   ]
  },
  {
   "cell_type": "code",
   "execution_count": 55,
   "metadata": {},
   "outputs": [
    {
     "data": {
      "image/png": "[encoded data removed]",
      "text/plain": [
       "<IPython.core.display.Image object>"
      ]
     },
     "metadata": {},
     "output_type": "display_data"
    }
   ],
   "source": [
    "router_builder = StateGraph(State)\n",
    "\n",
    "router_builder.add_node(\"llm_call_1\", llm_call_1)\n",
    "router_builder.add_node(\"llm_call_2\", llm_call_2)\n",
    "router_builder.add_node(\"llm_call_3\", llm_call_3)\n",
    "router_builder.add_node(\"llm_call_router\", llm_call_router)\n",
    "\n",
    "router_builder.add_edge(START, \"llm_call_router\")\n",
    "router_builder.add_conditional_edges(\"llm_call_router\", route_decision, {\n",
    "        \"llm_call_1\": \"llm_call_1\",\n",
    "        \"llm_call_2\": \"llm_call_2\",\n",
    "        \"llm_call_3\": \"llm_call_3\",\n",
    "    })\n",
    "router_builder.add_edge(\"llm_call_1\", END)\n",
    "router_builder.add_edge(\"llm_call_2\", END)\n",
    "router_builder.add_edge(\"llm_call_3\", END)\n",
    "\n",
    "router_workflow = router_builder.compile()\n",
    "display(Image(router_workflow.get_graph().draw_mermaid_png())) \n"
   ]
  },
  {
   "cell_type": "code",
   "execution_count": 56,
   "metadata": {},
   "outputs": [
    {
     "name": "stdout",
     "output_type": "stream",
     "text": [
      "step='story'\n",
      "Writing a story\n",
      "Here's a car joke for you:\n",
      "\n",
      "Why don't cars like telling jokes?\n",
      "\n",
      "Because they're afraid of cracking up! \n",
      "\n",
      "Here's another one:\n",
      "What kind of car does a snake drive?\n",
      "An Ana-conda Civic!\n"
     ]
    }
   ],
   "source": [
    "state = router_workflow.invoke({\"input\":\"Write me joke about cars\"})\n",
    "print(state[\"output\"])"
   ]
  },
  {
   "cell_type": "code",
   "execution_count": 61,
   "metadata": {},
   "outputs": [],
   "source": [
    "from langchain_core.tools import tool\n",
    "\n",
    "@tool\n",
    "def mul(a: int, b: int) -> int:\n",
    "    \"\"\"Multiply a and b\n",
    "\n",
    "    Args:\n",
    "        a: first int\n",
    "        b: second int\n",
    "    \"\"\"\n",
    "    return a*b\n",
    "\n",
    "@tool\n",
    "def add(a: int, b: int) -> int:\n",
    "    \"\"\"Adds a and b\n",
    "\n",
    "    Args:\n",
    "        a: first int\n",
    "        b: second int\n",
    "    \"\"\"\n",
    "    return a+b  \n",
    "\n",
    "@tool\n",
    "def divide(a: int, b: int) -> int:\n",
    "    \"\"\"Dividees a and b\n",
    "\n",
    "    Args:\n",
    "        a: first int\n",
    "        b: second int\n",
    "    \"\"\"\n",
    "    return a / b\n",
    "\n",
    "tools = [mul, add, divide]\n",
    "tools_by_name = {tool.name: tool for tool in tools}\n",
    "llm_with_tools = llm.bind_tools(tools)\n",
    "    "
   ]
  },
  {
   "cell_type": "code",
   "execution_count": 102,
   "metadata": {},
   "outputs": [],
   "source": [
    "from langgraph.graph import MessagesState\n",
    "from langchain_core.messages import ToolMessage\n",
    "from langchain_core.messages import HumanMessage, SystemMessage\n",
    "\n",
    "#Node definitions\n",
    "def llm_call(state: MessagesState):\n",
    "    \"\"\"LLM decides whether to call a tool or not\"\"\"\n",
    "\n",
    "    return {\n",
    "        \"messages\":[\n",
    "            llm_with_tools.invoke(\n",
    "                [\n",
    "                    SystemMessage(\n",
    "                        content=\"You are a helpful assistant tasked with performing arithematic on set of inputs\"\n",
    "                    ) \n",
    "                ]+ state[\"messages\"]\n",
    "            )\n",
    "        ]\n",
    "    }\n",
    "def tool_node(state: dict):\n",
    "    \"\"\"Performs the tool call\"\"\"\n",
    "\n",
    "    result = []\n",
    "    for tool_call in state[\"messages\"][-1].tool_calls:\n",
    "        tool = tools_by_name[tool_call[\"name\"]]\n",
    "        observation = tool.invoke(tool_call[\"args\"])\n",
    "        result.append(ToolMessage(content=observation, tool_call_id=tool_call[\"id\"]))\n",
    "    return {\"messages\": result}\n",
    "\n",
    "\n",
    "def should_continue(state:MessagesState)-> Literal[\"environment\", END]:\n",
    "    messages = state[\"messages\"]\n",
    "    if messages[-1].tool_calls:\n",
    "        return \"Action\"\n",
    "    return END"
   ]
  },
  {
   "cell_type": "code",
   "execution_count": 103,
   "metadata": {},
   "outputs": [
    {
     "data": {
      "image/png": "[encoded data removed]",
      "text/plain": [
       "<IPython.core.display.Image object>"
      ]
     },
     "metadata": {},
     "output_type": "display_data"
    }
   ],
   "source": [
    "\n",
    "\n",
    "agent_builder = StateGraph(MessagesState)\n",
    "agent_builder.add_node(\"llm_call\", llm_call)\n",
    "agent_builder.add_node(\"environment\", tool_node)\n",
    "\n",
    "agent_builder.add_edge(START, \"llm_call\")\n",
    "agent_builder.add_conditional_edges(\"llm_call\", should_continue, {\"Action\":\"environment\", END:END})\n",
    "agent_builder.add_edge(\"environment\", \"llm_call\")\n",
    "\n",
    "agent = agent_builder.compile()\n",
    "\n",
    "display(Image(agent.get_graph().draw_mermaid_png()))"
   ]
  },
  {
   "cell_type": "code",
   "execution_count": 107,
   "metadata": {},
   "outputs": [
    {
     "name": "stdout",
     "output_type": "stream",
     "text": [
      "================================\u001b[1m Human Message \u001b[0m=================================\n",
      "\n",
      "Add 3 and 4. Then, take the output and multiply by 9\n",
      "==================================\u001b[1m Ai Message \u001b[0m==================================\n",
      "\n",
      "[{'text': \"I'll help you with that calculation. Let's break this down into steps:\\n\\n1. First, let's add 3 and 4:\", 'type': 'text'}, {'id': 'toolu_011eavsv8GG69hbxRH3T2Rtm', 'input': {'a': 3, 'b': 4}, 'name': 'add', 'type': 'tool_use'}]\n",
      "Tool Calls:\n",
      "  add (toolu_011eavsv8GG69hbxRH3T2Rtm)\n",
      " Call ID: toolu_011eavsv8GG69hbxRH3T2Rtm\n",
      "  Args:\n",
      "    a: 3\n",
      "    b: 4\n",
      "=================================\u001b[1m Tool Message \u001b[0m=================================\n",
      "\n",
      "7\n",
      "==================================\u001b[1m Ai Message \u001b[0m==================================\n",
      "\n",
      "[{'text': \"2. Now, let's multiply the result (7) by 9:\", 'type': 'text'}, {'id': 'toolu_01URkCX2NQPzs6jqVdipUSKj', 'input': {'a': 7, 'b': 9}, 'name': 'mul', 'type': 'tool_use'}]\n",
      "Tool Calls:\n",
      "  mul (toolu_01URkCX2NQPzs6jqVdipUSKj)\n",
      " Call ID: toolu_01URkCX2NQPzs6jqVdipUSKj\n",
      "  Args:\n",
      "    a: 7\n",
      "    b: 9\n",
      "=================================\u001b[1m Tool Message \u001b[0m=================================\n",
      "\n",
      "63\n",
      "==================================\u001b[1m Ai Message \u001b[0m==================================\n",
      "\n",
      "The final result is 63. To break down the calculation:\n",
      "- 3 + 4 = 7\n",
      "- 7 × 9 = 63\n"
     ]
    }
   ],
   "source": [
    "\n",
    "\n",
    "messages = [HumanMessage(content=\"Add 3 and 4. Then, take the output and multiply by 9\")]\n",
    "messages = agent.invoke({\"messages\":messages})\n",
    "for m in messages[\"messages\"]:\n",
    "    m.pretty_print()"
   ]
  },
  {
   "cell_type": "code",
   "execution_count": null,
   "metadata": {},
   "outputs": [],
   "source": []
  }
 ],
 "metadata": {
  "kernelspec": {
   "display_name": "Python 3 (ipykernel)",
   "language": "python",
   "name": "python3"
  },
  "language_info": {
   "codemirror_mode": {
    "name": "ipython",
    "version": 3
   },
   "file_extension": ".py",
   "mimetype": "text/x-python",
   "name": "python",
   "nbconvert_exporter": "python",
   "pygments_lexer": "ipython3",
   "version": "3.12.1"
  }
 },
 "nbformat": 4,
 "nbformat_minor": 4
}
